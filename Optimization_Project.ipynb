As part of my internship at CodTech, I completed Task 4: Optimization Model, which involved solving a real-world business problem using linear programming techniques in Python. 
#output
<!-- Uploading "Screenshot 2025-10-28 201241.png"... -->
