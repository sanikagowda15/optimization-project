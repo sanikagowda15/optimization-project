As part of my internship at CodTech, I completed Task 4: Optimization Model, which involved solving a real-world business problem using linear programming techniques in Python. 
#output

